{
  "nbformat": 4,
  "nbformat_minor": 0,
  "metadata": {
    "colab": {
      "private_outputs": true,
      "provenance": [],
      "include_colab_link": true
    },
    "kernelspec": {
      "name": "python3",
      "display_name": "Python 3"
    },
    "language_info": {
      "name": "python"
    }
  },
  "cells": [
    {
      "cell_type": "markdown",
      "metadata": {
        "id": "view-in-github",
        "colab_type": "text"
      },
      "source": [
        "<a href=\"https://colab.research.google.com/github/PhanieDianelle/GDA_Live_coding_FML23/blob/main/phanie_dianelle_NEGHO_LinearSystem.ipynb\" target=\"_parent\"><img src=\"https://colab.research.google.com/assets/colab-badge.svg\" alt=\"Open In Colab\"/></a>"
      ]
    },
    {
      "cell_type": "markdown",
      "source": [
        "---\n",
        "___\n",
        "<p align= 'center'> <strong> PRACTICAL ASSIGNMENT ON LINEAR ALGEBRA</strong></p>\n",
        "\n",
        "---\n",
        "___\n",
        "<b> Instructions </b> <br>\n",
        "    1. The work you hand in must be your own. You are permitted to collaborate with one another students only to the degree of\n",
        "giving ideas on how to solve a problem. Think through and write up your own solutions; copying from others is not\n",
        "permitted. In particular, the code you hand in must be your own; <br>\n",
        "    2. Do not import additional libraries, only numpy is enough for this assignment."
      ],
      "metadata": {
        "id": "CUwVRjPlWGVJ"
      }
    },
    {
      "cell_type": "code",
      "source": [
        "import numpy as np"
      ],
      "metadata": {
        "id": "kbk4wqQ-M2yg"
      },
      "execution_count": null,
      "outputs": []
    },
    {
      "cell_type": "markdown",
      "source": [
        "## Forward and Backward substitution and Gaussian Elimination"
      ],
      "metadata": {
        "id": "sDpC-myYerhD"
      }
    },
    {
      "cell_type": "code",
      "source": [
        "def backsubs(U, b):\n",
        "\n",
        "  \"\"\"\n",
        "  x = backsubs(U, b)\n",
        "  Apply back substitution for the square upper triangular system Ux=b. \n",
        "\n",
        "  Parameters\n",
        "  -------\n",
        "    U: nxn square upper triangular array\n",
        "    b: n array\n",
        "    \n",
        "\n",
        "  Returns\n",
        "  -------\n",
        "    x: nx1 array\n",
        "  \"\"\"\n",
        "  ##### WRITE YOUR CODE HERE #####\n",
        "  n=len(b)\n",
        "  x=np.zeros(n)\n",
        "  if U[n-1][n-1]==0 and b[n-1]!=0:\n",
        "    exit\n",
        "  else:\n",
        "    x[n-1]=b[n-1]/U[n-1][n-1]\n",
        "    for i in range(n-2,-1,-1):\n",
        "      if U[i][i]==0 and b[i]!=0:\n",
        "        exit\n",
        "      else:\n",
        "        sum1=0\n",
        "        for j in range(n-1,i,-1): \n",
        "          sum1=sum1+ (U[i][j])*(x[j])\n",
        "        x[i]=(1/U[i][i])*(b[i]-sum1)\n",
        "    return x\n",
        "\n",
        "\n",
        "def forwardsubs(L, b):\n",
        "\n",
        "  \"\"\"\n",
        "  \tx = forsubs(L, b)\n",
        "    Apply forward substitution for the square lower triangular system Lx=b. \n",
        "\n",
        "    Parameters\n",
        "    -------\n",
        "      L: nxn square lower triangular array\n",
        "      b: n array\n",
        "      \n",
        "    Returns\n",
        "    -------\n",
        "      x: n array\n",
        "\n",
        "  \"\"\"\n",
        "  ##### WRITE YOUR CODE HERE #####\n",
        "  n=len(b)\n",
        "  x=np.zeros(n)\n",
        "  if L[0][0]==0 and b[0]!=0:\n",
        "    exit\n",
        "  else:\n",
        "    x[0]=(b[0]/L[0][0])\n",
        "  \n",
        "  for i in range(1,n):\n",
        "    if L[i][i] == 0 and b[i]!=0:\n",
        "      exit \n",
        "    else:\n",
        "      sum2=0\n",
        "      for j in range(0,i):\n",
        "        sum2=sum2+ (L[i][j])* x[j]\n",
        "      x[i]=(1/L[i][i])*(b[i]-sum2)\n",
        "  return x\n",
        "\n",
        "  \n",
        "def fowardElimination(A,b):\n",
        "  # Naive Gaussian Elimination (with no pivoting) also called Forward Elimination\n",
        "  \"\"\"\n",
        "  \tU,b_new = fowardElimination(A, b)\n",
        "    Apply fowardElimination for the square system Ax=b. \n",
        "\n",
        "    Parameters\n",
        "    -------\n",
        "      A: nxn square matrix \n",
        "      b: n array\n",
        "\n",
        "    Returns\n",
        "    -------\n",
        "      U: nxn upper triangular matrix\n",
        "      b_new: n array\n",
        "  \"\"\"\n",
        "  ##### WRITE YOUR CODE HERE #####\n",
        "  '''n=len(A)\n",
        "  for k in range(0,n-1):\n",
        "    #if A[k][k]==0:\n",
        "      # exit\n",
        "    #else:\n",
        "    for i in range(k+1,n):\n",
        "      ration=(A[i][k]/A[k][k])\n",
        "      b[i]=b[i]-ration*b[k]\n",
        "      for j in range(k,n-1):\n",
        "        A[i][j]=(A[i][j]-(A[i][k]/A[k][k])*A[k][j]) \n",
        "  return (A,b)'''\n",
        "  n=len(A)\n",
        "  for i in range(0,n-1):\n",
        "    for j in range(i+1,n):\n",
        "      k=A[j,i]/A[i,i]\n",
        "      A[j]=A[j]-k*A[i]\n",
        "      b[j]=b[j]-k*b[i]\n",
        "  return (A,b)\n",
        "\n",
        "\n",
        "\n",
        "def ge(A,b):\n",
        "  \n",
        "  \"\"\"\n",
        "  \tx = ge(A, b)\n",
        "\n",
        "    Parameters\n",
        "    -------\n",
        "      A: nxn square matrix \n",
        "      b: n array\n",
        "\n",
        "    Returns\n",
        "    -------\n",
        "      x: n-array\n",
        "\n",
        "  \"\"\"\n",
        "  ##### WRITE YOUR CODE HERE #####\n",
        "  # Call fowardElimination\n",
        "  U,b_new = fowardElimination(A,b)\n",
        "  # Call backsubs\n",
        "  x= backsubs(U,b_new)\n",
        "  pass"
      ],
      "metadata": {
        "id": "BKfyOkjdeXnl"
      },
      "execution_count": null,
      "outputs": []
    },
    {
      "cell_type": "code",
      "source": [
        "b=np.array([[3],[6],[8]])\n",
        "U=np.array([[2,1,1],[0,3,1],[0,0,4]])\n",
        "\n",
        "print('The result of backsubs is ')\n",
        "backsubs(U,b)\n"
      ],
      "metadata": {
        "id": "h-ujlgwgIpt5"
      },
      "execution_count": null,
      "outputs": []
    },
    {
      "cell_type": "code",
      "source": [
        "b=np.array([[2],[-1],[0]])\n",
        "L=np.array([[2,0,0],[1,2,0],[1,1,2]])\n",
        "print('The result of forwardSubs is ')\n",
        "forwardsubs(L, b)"
      ],
      "metadata": {
        "id": "xLxb22pgYpRV"
      },
      "execution_count": null,
      "outputs": []
    },
    {
      "cell_type": "code",
      "source": [
        "b=np.array([[7],[-4],[46],[-49],[4]])\n",
        "A=np.array([[5,5,5,-6,1],[-2,2,4,4,5],[-2,5,-4,0,0], [1,-4,0,4,-4],[-2,-2,1,-2,-2]])\n",
        "print('The result of forwardElimination is ')\n",
        "fowardElimination(A,b)"
      ],
      "metadata": {
        "id": "rK7Zt3QmaCCo"
      },
      "execution_count": null,
      "outputs": []
    },
    {
      "cell_type": "markdown",
      "source": [
        "## LU Decomposition/Factorization"
      ],
      "metadata": {
        "id": "xrbs9uRuel0v"
      }
    },
    {
      "cell_type": "code",
      "source": [
        "def ludecom(A):\n",
        "    \n",
        "  \"\"\"\n",
        "    L,U = ludecom(A)\n",
        "    Apply LU decomposition to mxm square matrix. \n",
        "\n",
        "    Parameters\n",
        "    -------\n",
        "    A: mxm square matrix \n",
        "\n",
        "    Returns\n",
        "    -------\n",
        "    L: mxm square matrix \n",
        "    U: mxm square matrix \n",
        "  \"\"\"\n",
        "\n",
        "  ##### WRITE YOUR CODE HERE #####\n",
        "  n=len(A)\n",
        "  U=A.copy()\n",
        "  L=np.identity(n)\n",
        "  for k in range(n-1):\n",
        "    for j in range(k+1,n):\n",
        "      L[j][k]=U[j][k]/U[k][k]\n",
        "      U[j][k:n]=U[j][k:n]-L[j][k]*U[k][k:n]\n",
        "  return (L,U)\n",
        "\n",
        "\n",
        "\n",
        "def solve(A, b):\n",
        "    \n",
        "    \"\"\"\n",
        "     x = solve(A, b)\n",
        "    Apply LU decmposition, forward and backward substitution for the square system Ax=b. \n",
        "\n",
        "    Parameters\n",
        "    -------\n",
        "    A: mxm square matrix \n",
        "    b: m vector\n",
        "        \n",
        "    Returns\n",
        "    -------\n",
        "    x: n vector\n",
        "    \n",
        "    \"\"\"\n",
        "    ##### WRITE YOUR CODE HERE #####\n",
        "    L,U=ludecom(A)\n",
        "    print(U)\n",
        "    print(L)\n",
        "    y=forwardsubs(L,b)\n",
        "    x=backsubs(U,y)\n",
        "    return x\n",
        "\n",
        "A= np.array([[1,1,1, 4],[2,3,5, 2],[4,6,8, 3], [3,9,2, 1]],dtype= np.float64)\n",
        "b= np.array([2,3,1, 4],dtype= np.float64)\n",
        "\n",
        "x= solve(A, b)\n",
        "\n",
        "print(A@x-b)"
      ],
      "metadata": {
        "id": "8BHIAJKEejoc"
      },
      "execution_count": null,
      "outputs": []
    },
    {
      "cell_type": "markdown",
      "source": [
        "___END___"
      ],
      "metadata": {
        "id": "MCnQwgWOWAJf"
      }
    }
  ]
}